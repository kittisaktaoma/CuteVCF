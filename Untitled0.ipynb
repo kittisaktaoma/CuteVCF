{
  "nbformat": 4,
  "nbformat_minor": 0,
  "metadata": {
    "colab": {
      "name": "Untitled0.ipynb",
      "provenance": [],
      "authorship_tag": "ABX9TyPFDv6eXeTt/ardlRNrUNAE",
      "include_colab_link": true
    },
    "kernelspec": {
      "name": "python3",
      "display_name": "Python 3"
    }
  },
  "cells": [
    {
      "cell_type": "markdown",
      "metadata": {
        "id": "view-in-github",
        "colab_type": "text"
      },
      "source": [
        "<a href=\"https://colab.research.google.com/github/kittisaktaoma/CuteVCF/blob/master/Untitled0.ipynb\" target=\"_parent\"><img src=\"https://colab.research.google.com/assets/colab-badge.svg\" alt=\"Open In Colab\"/></a>"
      ]
    },
    {
      "cell_type": "markdown",
      "metadata": {
        "id": "11jeZxMBVepO"
      },
      "source": [
        "#Data Preparation"
      ]
    },
    {
      "cell_type": "markdown",
      "metadata": {
        "id": "vz2hunfbcJsc"
      },
      "source": [
        "## Sequence Reduction"
      ]
    },
    {
      "cell_type": "code",
      "metadata": {
        "id": "HSkWUINRVSNy"
      },
      "source": [
        "! sudo apt-get install cd-hit"
      ],
      "execution_count": null,
      "outputs": []
    },
    {
      "cell_type": "code",
      "metadata": {
        "id": "gkDxrlQWTIIo"
      },
      "source": [
        "#! for acc in $(cat ../id_list_03.txt);do task wget https://www.uniprot.org/uniprot/$acc.fasta &;done\n",
        "#! cd-hit -i ../all.fasta -o trim.fasta -c 0.80^C"
      ],
      "execution_count": null,
      "outputs": []
    },
    {
      "cell_type": "markdown",
      "metadata": {
        "id": "MQn7gpp-Xtze"
      },
      "source": [
        "#Feature Preparation"
      ]
    },
    {
      "cell_type": "code",
      "metadata": {
        "id": "3yldB4NbX8JU"
      },
      "source": [
        "reference_interaction <- fread(\"https://github.com/kittisaktaoma/colab_practice/raw/master/tmp/big_file_interaction.csv.gz\",header = T)[,-1] %>% unique()\n",
        "\n",
        "\n",
        "#Degree distributions\n",
        "\n",
        "Degree_cal <- function(query){\n",
        "  res <- reference_interaction %>% filter(`SWISS-PROT Accessions Interactor A` == query) %>% nrow()\n",
        "  return(i)\n",
        "}\n",
        "\n",
        "\n",
        "\n",
        "#Neighborhood conectivity\n",
        "\n",
        "\n",
        "cal_neigh <- function(query){\n",
        "  res <- reference_interaction %>% filter(`SWISS-PROT Accessions Interactor A` == query) \n",
        "  neigh <- res$`SWISS-PROT Accessions Interactor B`\n",
        "  n_1 <- reference_interaction %>% filter(`SWISS-PROT Accessions Interactor A` %in% neigh) %>% group_by(`SWISS-PROT Accessions Interactor A`) %>% summarise(CNT=n())\n",
        "  res_02 <- mean(n_1$CNT)\n",
        "  return(res_02)\n",
        "}\n",
        "\n",
        "\n",
        "\n",
        "#Clustering Coefficient\n",
        "\n",
        "CCoef <- function(query){\n",
        "    k_n <- reference_interaction %>% filter(`SWISS-PROT Accessions Interactor A` == query) %>% nrow()\n",
        "    e_n <- reference_interaction %>% filter(`SWISS-PROT Accessions Interactor A` == query) %>% select(`SWISS-PROT Accessions Interactor B`) %>% t() %>% as.data.frame()\n",
        "    \n",
        "    out <- list()\n",
        "    \n",
        "    column <- 1\n",
        "    \n",
        "    try(\n",
        "      for (i in 1:(ncol(e_n)-1)) {\n",
        "        for (j in (i+1):ncol(e_n)) {\n",
        "          x <- reference_interaction %>% filter(`SWISS-PROT Accessions Interactor A` == unlist(e_n[i]) & `SWISS-PROT Accessions Interactor B` == unlist(e_n[j])) %>% nrow() \n",
        "          if (x == 0) {\n",
        "            next\n",
        "          } else {\n",
        "            out[[column]] <- x\n",
        "          }\n",
        "          column = column + 1\n",
        "        }\n",
        "      } \n",
        "    )\n",
        "    e_n_final <- do.call(rbind,out) %>% as.data.frame() %>% nrow() \n",
        "    C_n <- (2*e_n_final)/(k_n*(k_n-1))\n",
        "    return(C_n)\n",
        "}\n",
        "\n",
        "\n"
      ],
      "execution_count": null,
      "outputs": []
    },
    {
      "cell_type": "code",
      "metadata": {
        "id": "JPpP35PxX2q7"
      },
      "source": [
        "\n",
        "df <- read_xlsx(\"Fianl_export.xlsx\",sheet = 1)[c(1:17),] %>% as.data.frame()\n",
        "df_02 <- unlist(df$id)\n",
        "pro_seq <- getUniProt(df_02)\n",
        "\n",
        "\n",
        "################ Sequence Based #########################\n",
        "\n",
        "\n",
        "#Amino Acid Frequency  \n",
        "\n",
        "AAC <- t(sapply(pro_seq, extractAAC)) %>% as.data.frame()\n",
        "DC <- t(sapply(pro_seq, extractDC)) %>% as.data.frame()\n",
        "TC <- t(sapply(pro_seq, extractTC)) %>% as.data.frame()\n",
        "\n",
        "all_Sequence_Based <- cbind(AAC,DC,TC)\n",
        "\n",
        "all_Sequence_Based_02 <- all_Sequence_Based \n",
        "\n",
        "################ physicochemical properties Based #########################\n",
        "\n",
        "\n",
        "\n",
        "# Autocorrelation Descriptors (based on AAindex Database) with eight indices\n",
        "\n",
        "MoreauBroto <- t(sapply(pro_seq,extractMoreauBroto)) %>% as.data.frame()\n",
        "Moran <- t(sapply(pro_seq,extractMoran)) %>% as.data.frame()\n",
        "Geary <- t(sapply(pro_seq,extractGeary)) %>% as.data.frame()\n",
        "\n",
        "\n",
        "# Composition/Transition/Distribution\n",
        "\n",
        "CTDC <- t(sapply(pro_seq,extractCTDC)) %>% as.data.frame()\n",
        "CTDT <- t(sapply(pro_seq,extractCTDT)) %>% as.data.frame()\n",
        "CTDD <- t(sapply(pro_seq,extractCTDD)) %>% as.data.frame()\n",
        "\n",
        "\n",
        "# Conjoint Triad\n",
        "\n",
        "ConJoin_Triad <- t(sapply(pro_seq,extractCTriad)) %>% as.data.frame() \n",
        "\n",
        "#Sequence-order-coupling number\n",
        "\n",
        "SOCN <- t(sapply(pro_seq,extractSOCN)) %>% as.data.frame()\n",
        "\n",
        "# Quasi-sequence-order descriptors\n",
        "\n",
        "QSO <- t(sapply(pro_seq,extractQSO)) %>% as.data.frame()\n",
        "\n",
        "         \n",
        "#Pseudo-Amino Acid Composition (PseAAC)\n",
        "         \n",
        "PAAC <- t(sapply(pro_seq,extractPAAC)) %>% as.data.frame() \n",
        "\n",
        "\n",
        "#Amphiphilic Pseudo-Amino Acid Composition (APseAAC)\n",
        "\n",
        "APAAC <- t(sapply(pro_seq,extractAPAAC)) %>% as.data.frame() \n",
        "\n",
        "\n",
        "################ PPI network features Based #########################\n",
        "source(\"network_feature.R\")"
      ],
      "execution_count": null,
      "outputs": []
    }
  ]
}
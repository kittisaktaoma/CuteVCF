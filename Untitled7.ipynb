{
  "nbformat": 4,
  "nbformat_minor": 0,
  "metadata": {
    "colab": {
      "name": "Untitled7.ipynb",
      "provenance": [],
      "toc_visible": true,
      "authorship_tag": "ABX9TyNXBMb0l6apAvWwQe0d7duC",
      "include_colab_link": true
    },
    "kernelspec": {
      "name": "python3",
      "display_name": "Python 3"
    }
  },
  "cells": [
    {
      "cell_type": "markdown",
      "metadata": {
        "id": "view-in-github",
        "colab_type": "text"
      },
      "source": [
        "<a href=\"https://colab.research.google.com/github/kittisaktaoma/CuteVCF/blob/master/Untitled7.ipynb\" target=\"_parent\"><img src=\"https://colab.research.google.com/assets/colab-badge.svg\" alt=\"Open In Colab\"/></a>"
      ]
    },
    {
      "cell_type": "code",
      "metadata": {
        "colab": {
          "base_uri": "https://localhost:8080/"
        },
        "id": "qMG2mkPROnV_",
        "outputId": "23032a66-1f74-42f5-f0ee-16bced3a8ac8"
      },
      "source": [
        "# activate R magic\r\n",
        "%load_ext rpy2.ipython"
      ],
      "execution_count": 8,
      "outputs": [
        {
          "output_type": "stream",
          "text": [
            "The rpy2.ipython extension is already loaded. To reload it, use:\n",
            "  %reload_ext rpy2.ipython\n"
          ],
          "name": "stdout"
        }
      ]
    },
    {
      "cell_type": "code",
      "metadata": {
        "id": "U8Vk23COOzAk"
      },
      "source": [
        "%%R\r\n",
        "#install.packages(\"data.table\")\r\n",
        "library(data.table)\r\n",
        "library(dplyr)\r\n",
        "library(ggplot2)\r\n"
      ],
      "execution_count": null,
      "outputs": []
    },
    {
      "cell_type": "code",
      "metadata": {
        "id": "iE55zu1SsFLf"
      },
      "source": [
        "! wget \"https://github.com/kittisaktaoma/Microbe_Explore/raw/main/MFC2018.opti_mcc.0.03.biom\""
      ],
      "execution_count": null,
      "outputs": []
    },
    {
      "cell_type": "code",
      "metadata": {
        "id": "FL9ibcx4sX3X"
      },
      "source": [
        "%%bash\r\n",
        "for i in $(cat ALL_GENUS.txt)\r\n",
        "do\r\n",
        "  grep $i MFC2018.biom | tr '\"' '\\,' | cut -d',' -f4 > ${i}.csv\r\n",
        "done"
      ],
      "execution_count": 690,
      "outputs": []
    },
    {
      "cell_type": "code",
      "metadata": {
        "colab": {
          "base_uri": "https://localhost:8080/"
        },
        "id": "bDKmQUfrQ60X",
        "outputId": "0702e5f1-d8bb-4e8d-8383-7b299cac05ea"
      },
      "source": [
        "%%R\r\n",
        "CNT_OTU=fread(\"https://github.com/kittisaktaoma/Microbe_Explore/raw/main/OTU_count.txt\")\r\n",
        "CNT_OTU"
      ],
      "execution_count": 726,
      "outputs": [
        {
          "output_type": "stream",
          "text": [
            "            OTU MFC_M1L_A1_16S MFC_M1L_A2_16S MFC_M1L_A3_16S MFC_M1L_S_16S\n",
            "    1: Otu00001           2955           2771          17046          2416\n",
            "    2: Otu00002             20             89             39           121\n",
            "    3: Otu00003            165            523            414          1122\n",
            "    4: Otu00004             14             10             11            31\n",
            "    5: Otu00005            549            989           3947          1078\n",
            "   ---                                                                    \n",
            "43832: Otu43832              0              0              0             0\n",
            "43833: Otu43833              0              0              0             0\n",
            "43834: Otu43834              0              0              0             0\n",
            "43835: Otu43835              0              0              0             0\n",
            "43836: Otu43836              0              0              0             0\n",
            "       MFC_M2L_A1_16S MFC_M2L_A2_16S MFC_M2L_A3_16S MFC_M2L_S_16S\n",
            "    1:           3395           3810           4995          2092\n",
            "    2:            102            135            251            59\n",
            "    3:            752            446            494          1562\n",
            "    4:             27             15             32            24\n",
            "    5:            711           2279           3671          2389\n",
            "   ---                                                           \n",
            "43832:              0              0              0             0\n",
            "43833:              0              0              0             0\n",
            "43834:              0              0              0             0\n",
            "43835:              0              0              0             0\n",
            "43836:              0              0              0             0\n"
          ],
          "name": "stdout"
        }
      ]
    },
    {
      "cell_type": "code",
      "metadata": {
        "id": "8zQko0uPqEhE"
      },
      "source": [
        "%%R\r\n",
        "GENUS = fread(\"https://raw.githubusercontent.com/kittisaktaoma/Microbe_Explore/main/ALL_GENUS.txt\",header=F)\r\n",
        "\r\n",
        "\r\n",
        "get_cnt <- function(i,day,pos){\r\n",
        "  CNT_GENUS=fread(paste0(GENUS[i,1],\".csv\"),header=F) %>% unlist()\r\n",
        "  CNT_OTU=fread(\"https://github.com/kittisaktaoma/Microbe_Explore/raw/main/OTU_count.txt\") %>%\r\n",
        "  select(OTU,paste0(\"MFC_\",day,\"_\",pos,\"_16S\"))\r\n",
        "  CNT_OTU_02 <- CNT_OTU %>% filter(OTU %in%CNT_GENUS)\r\n",
        "  df_final <- as.data.frame(GENUS[i,1])\r\n",
        "  df_final$count <- sum(CNT_OTU_02[,2])\r\n",
        "  df_final$percent <- sum(CNT_OTU_02[,2])/sum(CNT_OTU[,2])\r\n",
        "  df_final$sample <- pos\r\n",
        "  df_final$HRT <- day\r\n",
        "  return (df_final)    \r\n",
        "}\r\n",
        "\r\n"
      ],
      "execution_count": 739,
      "outputs": []
    },
    {
      "cell_type": "code",
      "metadata": {
        "colab": {
          "base_uri": "https://localhost:8080/"
        },
        "id": "93vah16--tfz",
        "outputId": "f66f8527-4418-4e50-fdaf-e3229bf3f35c"
      },
      "source": [
        "%%R\r\n",
        "get_cnt(1,\"M1L\",\"A1\")\r\n"
      ],
      "execution_count": 740,
      "outputs": [
        {
          "output_type": "stream",
          "text": [
            "           V1 count      percent sample HRT\n",
            "1 Megasphaera    36 0.0004927929     A1 M1L\n"
          ],
          "name": "stdout"
        }
      ]
    },
    {
      "cell_type": "code",
      "metadata": {
        "id": "VC2N1U6R5KVd"
      },
      "source": [
        ""
      ],
      "execution_count": null,
      "outputs": []
    }
  ]
}